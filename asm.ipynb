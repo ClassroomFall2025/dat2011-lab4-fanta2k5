{
 "cells": [
  {
   "cell_type": "code",
   "execution_count": null,
   "id": "d8f9af48",
   "metadata": {},
   "outputs": [],
   "source": [
    "while True:\n",
    "    print(\"\"\"\n",
    "    ====== MÁY TÍNH BỎ TÚI ======\n",
    "    1. Phép tính cơ bản\n",
    "    2. Lũy thừa\n",
    "    3. Căn bậc hai\n",
    "    4. Hàm lượng giác\n",
    "    5. Logarit\n",
    "    6. Giải phương trình bậc nhất\n",
    "    7. Giải phương trình bậc 2\n",
    "    8. Xem lịch sử\n",
    "    9. Xem thời gian hiện tại\n",
    "    0. Thoát\n",
    "    \"\"\")\n",
    "\n",
    "    ccc = input(\"Chọn chức năng: \")\n",
    "    if ccc == \"q\":\n",
    "        print(\"Bạn đã thoát bằng phím q. Tạm biệt!\")\n",
    "        break\n",
    "\n",
    "    match ccc:\n",
    "        case \"1\":\n",
    "            print(\"Tính năng: Phép tính cơ bản\")\n",
    "        case \"2\":\n",
    "            print(\"Tính năng: Lũy thừa\")\n",
    "        case \"3\":\n",
    "            print(\"Tính năng: Căn bậc hai\")\n",
    "        case \"4\":\n",
    "            print(\"Tính năng: Hàm lượng giác\")\n",
    "        case \"5\":\n",
    "            print(\"Tính năng: Logarit\")\n",
    "        case \"6\":\n",
    "            print(\"Tính năng: Giải phương trình bậc nhất\")\n",
    "        case \"7\":\n",
    "            print(\"Tính năng: Giải phương trình bậc 2\")\n",
    "        case \"8\":\n",
    "            print(\"Tính năng: Xem lịch sử\")\n",
    "        case \"9\":\n",
    "            print(\"Tính năng: Xem thời gian hiện tại\")\n",
    "        case \"0\":\n",
    "            print(\"Thoát chương trình\")\n",
    "            break\n",
    "        case _:\n",
    "            print(\"Chức năng không hợp lệ\")\n"
   ]
  }
 ],
 "metadata": {
  "language_info": {
   "name": "python"
  }
 },
 "nbformat": 4,
 "nbformat_minor": 5
}
