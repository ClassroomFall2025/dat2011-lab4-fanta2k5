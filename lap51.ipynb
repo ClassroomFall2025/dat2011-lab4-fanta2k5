{
 "cells": [
  {
   "cell_type": "code",
   "execution_count": 1,
   "id": "d6e3b151",
   "metadata": {},
   "outputs": [
    {
     "name": "stdout",
     "output_type": "stream",
     "text": [
      "Tên sinh viên: Nguyen Van A\n",
      "Năm sinh: 2000\n",
      "Điểm: 8.5\n",
      "Học lập trình: Co\n",
      "Tên sinh viên: Nguyen Van A Năm sinh: 2000 Điểm: 8.5 Học lập trình: Co\n"
     ]
    }
   ],
   "source": [
    "from sinhvien import *\n",
    "sv1 = sinhvien(\"Nguyen Van A\", 2000, 8.5, \"Co\")\n",
    "sv1.hien_sv()\n",
    "sv1.xuatsv()"
   ]
  },
  {
   "cell_type": "code",
   "execution_count": 1,
   "id": "6155f0f5",
   "metadata": {},
   "outputs": [
    {
     "name": "stdout",
     "output_type": "stream",
     "text": [
      "Sản Phẩm bánh mì 1000 Giá: 100000.0 Giảm giá: 1000.0 Thuế nhập khẩu: 10000.0\n",
      "Sản Phẩm bánh kem  Giá: 1000000.0 Giảm giá: 1000.0 Thuế nhập khẩu: 100000.0\n"
     ]
    }
   ],
   "source": [
    "from sanpham import *\n",
    "\n",
    "sp1 = sampham(\"\",\"\",\"\")\n",
    "sp2 = sampham(\"\",\"\",\"\")\n",
    "sp1.nhap_thong_tin_sp()\n",
    "sp1.xuat_thong_tin_sp()\n",
    "sp2.nhap_thong_tin_sp()\n",
    "sp2.xuat_thong_tin_sp()\n"
   ]
  }
 ],
 "metadata": {
  "kernelspec": {
   "display_name": ".venv",
   "language": "python",
   "name": "python3"
  },
  "language_info": {
   "codemirror_mode": {
    "name": "ipython",
    "version": 3
   },
   "file_extension": ".py",
   "mimetype": "text/x-python",
   "name": "python",
   "nbconvert_exporter": "python",
   "pygments_lexer": "ipython3",
   "version": "3.13.7"
  }
 },
 "nbformat": 4,
 "nbformat_minor": 5
}
