{
 "cells": [
  {
   "cell_type": "markdown",
   "id": "c4c1740d",
   "metadata": {},
   "source": [
    "# Sinh viên code lab4 ở đây"
   ]
  },
  {
   "cell_type": "markdown",
   "id": "1a5fec33",
   "metadata": {},
   "source": [
    "## Lab 1 - Bài 1"
   ]
  },
  {
   "cell_type": "code",
   "execution_count": 5,
   "id": "b8deca9b",
   "metadata": {},
   "outputs": [
    {
     "name": "stdout",
     "output_type": "stream",
     "text": [
      "Sản lượng 12 m3 => Tiền nước: 92,600 đồng\n",
      "Sản lượng 23 m3 => Tiền nước: 199,000 đồng\n",
      "Sản lượng 34 m3 => Tiền nước: 379,000 đồng\n"
     ]
    }
   ],
   "source": [
    "# Code lab 4 bài 1 ở đây\n",
    "# Giá bán nước theo từng bậc (đồng/m3)\n",
    "gia_ban_nuoc = (7500, 8800, 12000, 24000)\n",
    "\n",
    "def tinh_tien_nuoc(san_luong):\n",
    "    tien = 0\n",
    "    if san_luong <= 10:\n",
    "        tien = san_luong * gia_ban_nuoc[0]\n",
    "    elif san_luong <= 20:\n",
    "        tien = 10 * gia_ban_nuoc[0] + (san_luong - 10) * gia_ban_nuoc[1]\n",
    "    elif san_luong <= 30:\n",
    "        tien = (10 * gia_ban_nuoc[0] +\n",
    "                10 * gia_ban_nuoc[1] +\n",
    "                (san_luong - 20) * gia_ban_nuoc[2])\n",
    "    else:\n",
    "        tien = (10 * gia_ban_nuoc[0] +\n",
    "                10 * gia_ban_nuoc[1] +\n",
    "                10 * gia_ban_nuoc[2] +\n",
    "                (san_luong - 30) * gia_ban_nuoc[3])\n",
    "    return tien\n",
    "\n",
    "# Test với các trường hợp mẫu\n",
    "ds_san_luong = [12, 23, 34]\n",
    "for sl in ds_san_luong:\n",
    "    print(f\"Sản lượng {sl} m3 => Tiền nước: {tinh_tien_nuoc(sl):,} đồng\")\n"
   ]
  },
  {
   "cell_type": "markdown",
   "id": "beb38d67",
   "metadata": {},
   "source": [
    "## Lab 4 - Bài 2"
   ]
  },
  {
   "cell_type": "code",
   "execution_count": 6,
   "id": "45a3d82f",
   "metadata": {},
   "outputs": [
    {
     "name": "stdout",
     "output_type": "stream",
     "text": [
      "Nguyên liệu cần cho hộp bánh: {'đậu': 0.46, 'đường': 0.22000000000000003}\n"
     ]
    }
   ],
   "source": [
    "# Code lab 4  bài 2 ở đây\n",
    "# Lượng nguyên liệu cho mỗi loại bánh (theo kg)\n",
    "# Cấu trúc: (đường, đậu)\n",
    "banh_dau_xanh = (0.04, 0.07)\n",
    "banh_thap_cam = (0.06, 0.0)\n",
    "banh_deo = (0.05, 0.02)\n",
    "\n",
    "def tinh_nguyen_lieu(so_dau_xanh, so_thap_cam, so_deo):\n",
    "    # Tính tổng nguyên liệu\n",
    "    duong = (so_dau_xanh * banh_dau_xanh[0] +\n",
    "             so_thap_cam * banh_thap_cam[0] +\n",
    "             so_deo * banh_deo[0])\n",
    "    \n",
    "    dau = (so_dau_xanh * banh_dau_xanh[1] +\n",
    "           so_thap_cam * banh_thap_cam[1] +\n",
    "           so_deo * banh_deo[1])\n",
    "    \n",
    "    # Kết quả trả về dạng dictionary\n",
    "    return {\"đậu\": duong, \"đường\": dau}\n",
    "\n",
    "# Ví dụ: 2 bánh đậu xanh, 3 bánh thập cẩm, 4 bánh dẻo\n",
    "ket_qua = tinh_nguyen_lieu(2, 3, 4)\n",
    "print(\"Nguyên liệu cần cho hộp bánh:\", ket_qua)\n",
    "\n",
    "\n",
    "\n"
   ]
  },
  {
   "cell_type": "markdown",
   "id": "97973a41",
   "metadata": {},
   "source": [
    "## Lab 4 - Bài 3"
   ]
  },
  {
   "cell_type": "code",
   "execution_count": 1,
   "id": "2efe4c4d",
   "metadata": {},
   "outputs": [
    {
     "name": "stdout",
     "output_type": "stream",
     "text": [
      "Nhập dãy số nguyên (nhập 's' hoặc 'S' để dừng):\n",
      "Dãy số ban đầu: [1, 2, 3, 4, 5, 5, 6, 67, 8, 8]\n",
      "Các số chẵn trong dãy: [2, 4, 6, 8, 8]\n"
     ]
    }
   ],
   "source": [
    "# Code lab 4  bài 3 ở đây\n",
    "#Lọc ra các số chẵn trong dãy số nguyên\n",
    "\n",
    "# Nhập dãy số từ bàn phím\n",
    "my_list = []\n",
    "\n",
    "print(\"Nhập dãy số nguyên (nhập 's' hoặc 'S' để dừng):\")\n",
    "while True:\n",
    "    n = input(\"Nhập số: \")\n",
    "    if n.lower() == 's':   # nếu nhập s hoặc S thì dừng\n",
    "        break\n",
    "    try:\n",
    "        n = int(n)  # kiểm tra xem có phải số nguyên không\n",
    "        my_list.append(n)\n",
    "    except ValueError:\n",
    "        print(\"Lỗi: Bạn phải nhập số nguyên!\")\n",
    "\n",
    "# Lọc ra các số chẵn bằng filter + lambda\n",
    "new_list = list(filter(lambda x: x % 2 == 0, my_list))\n",
    "\n",
    "# Xuất kết quả\n",
    "print(\"Dãy số ban đầu:\", my_list)\n",
    "print(\"Các số chẵn trong dãy:\", new_list)\n"
   ]
  },
  {
   "cell_type": "markdown",
   "id": "8f3bb8b7",
   "metadata": {},
   "source": [
    "## Lab 4 - Bài 4"
   ]
  },
  {
   "cell_type": "code",
   "execution_count": null,
   "id": "6860b241",
   "metadata": {},
   "outputs": [
    {
     "name": "stdout",
     "output_type": "stream",
     "text": [
      "\n",
      "+----------------------------------+\n",
      "| 1. Tính tiền nước sinh hoạt      |\n",
      "| 2. Tính nguyên liệu làm bánh     |\n",
      "| 3. Lọc số chẵn trong dãy số      |\n",
      "| 0. Kết thúc                      |\n",
      "+----------------------------------+\n",
      "\n",
      "💧 Tiền nước phải trả: 1,963,000 đồng\n",
      "\n",
      "\n",
      "+----------------------------------+\n",
      "| 1. Tính tiền nước sinh hoạt      |\n",
      "| 2. Tính nguyên liệu làm bánh     |\n",
      "| 3. Lọc số chẵn trong dãy số      |\n",
      "| 0. Kết thúc                      |\n",
      "+----------------------------------+\n",
      "\n",
      "🍞 Nguyên liệu cần (kg):\n",
      "- Đường: 1.91 kg\n",
      "- Đậu  : 1.81 kg\n",
      "\n",
      "\n",
      "+----------------------------------+\n",
      "| 1. Tính tiền nước sinh hoạt      |\n",
      "| 2. Tính nguyên liệu làm bánh     |\n",
      "| 3. Lọc số chẵn trong dãy số      |\n",
      "| 0. Kết thúc                      |\n",
      "+----------------------------------+\n",
      "\n",
      "Nhập dãy số nguyên (gõ 's' hoặc 'S' để dừng):\n",
      "Lỗi: Bạn phải nhập số nguyên!\n",
      "📦 Dãy số ban đầu: [1, 2, 3, 4, 5, 65, 7, 5, 4, 3, 3, 80, 6, 1, 2, 12, 14, 15, 16]\n",
      "✅ Các số chẵn   : [2, 4, 4, 80, 6, 2, 12, 14, 16] \n",
      "\n",
      "\n",
      "+----------------------------------+\n",
      "| 1. Tính tiền nước sinh hoạt      |\n",
      "| 2. Tính nguyên liệu làm bánh     |\n",
      "| 3. Lọc số chẵn trong dãy số      |\n",
      "| 0. Kết thúc                      |\n",
      "+----------------------------------+\n",
      "\n"
     ]
    }
   ],
   "source": [
    "import Lab4_module as m\n",
    "\n",
    "def menu():\n",
    "    print(\"\"\"\n",
    "+----------------------------------+\n",
    "| 1. Tính tiền nước sinh hoạt      |\n",
    "| 2. Tính nguyên liệu làm bánh     |\n",
    "| 3. Lọc số chẵn trong dãy số      |\n",
    "| 0. Kết thúc                      |\n",
    "+----------------------------------+\n",
    "\"\"\")\n",
    "\n",
    "while True:\n",
    "    menu()\n",
    "    chon = input(\"Chọn chức năng (0-3): \").strip()\n",
    "\n",
    "    if chon not in {'0','1','2','3'}:\n",
    "        print(\"❌ Lỗi: Vui lòng nhập số từ 0 đến 3!\\n\")\n",
    "        continue\n",
    "\n",
    "    if chon == '0':\n",
    "        print(\"👋 Tạm biệt!\")\n",
    "        break\n",
    "\n",
    "    if chon == '1':\n",
    "        try:\n",
    "            sl = int(input(\"Nhập sản lượng nước (m³): \"))\n",
    "            if sl < 0:\n",
    "                raise ValueError\n",
    "        except ValueError:\n",
    "            print(\"❌ Sản lượng phải là số nguyên không âm!\\n\")\n",
    "            continue\n",
    "        tien = m.tinh_tien_nuoc(sl)\n",
    "        print(f\"💧 Tiền nước phải trả: {tien:,} đồng\\n\")\n",
    "\n",
    "    elif chon == '2':\n",
    "        try:\n",
    "            dx = int(input(\"Số bánh đậu xanh: \"))\n",
    "            tc = int(input(\"Số bánh thập cẩm: \"))\n",
    "            deo = int(input(\"Số bánh dẻo: \"))\n",
    "            if min(dx, tc, deo) < 0:\n",
    "                raise ValueError\n",
    "        except ValueError:\n",
    "            print(\"❌ Số lượng bánh phải là số nguyên không âm!\\n\")\n",
    "            continue\n",
    "        kq = m.tinh_nguyen_lieu(dx, tc, deo)\n",
    "        print(\"🍞 Nguyên liệu cần (kg):\")\n",
    "        print(f\"- Đường: {kq['đường']:.2f} kg\")\n",
    "        print(f\"- Đậu  : {kq['đậu']:.2f} kg\\n\")\n",
    "\n",
    "    elif chon == '3':\n",
    "        ds = m.nhap_day_so()\n",
    "        chan = m.loc_so_chan(ds)\n",
    "        print(\"📦 Dãy số ban đầu:\", ds)\n",
    "        print(\"✅ Các số chẵn   :\", chan, \"\\n\")\n"
   ]
  }
 ],
 "metadata": {
  "kernelspec": {
   "display_name": ".venv",
   "language": "python",
   "name": "python3"
  },
  "language_info": {
   "codemirror_mode": {
    "name": "ipython",
    "version": 3
   },
   "file_extension": ".py",
   "mimetype": "text/x-python",
   "name": "python",
   "nbconvert_exporter": "python",
   "pygments_lexer": "ipython3",
   "version": "3.13.7"
  }
 },
 "nbformat": 4,
 "nbformat_minor": 5
}
