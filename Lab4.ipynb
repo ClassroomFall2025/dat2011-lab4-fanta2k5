{
 "cells": [
  {
   "cell_type": "markdown",
   "id": "c4c1740d",
   "metadata": {},
   "source": [
    "# Sinh viên code lab4 ở đây"
   ]
  },
  {
   "cell_type": "markdown",
   "id": "1a5fec33",
   "metadata": {},
   "source": [
    "## Lab 1 - Bài 1"
   ]
  },
  {
   "cell_type": "code",
   "execution_count": 5,
   "id": "b8deca9b",
   "metadata": {},
   "outputs": [
    {
     "name": "stdout",
     "output_type": "stream",
     "text": [
      "Sản lượng 12 m3 => Tiền nước: 92,600 đồng\n",
      "Sản lượng 23 m3 => Tiền nước: 199,000 đồng\n",
      "Sản lượng 34 m3 => Tiền nước: 379,000 đồng\n"
     ]
    }
   ],
   "source": [
    "# Code lab 4 bài 1 ở đây\n",
    "# Giá bán nước theo từng bậc (đồng/m3)\n",
    "gia_ban_nuoc = (7500, 8800, 12000, 24000)\n",
    "\n",
    "def tinh_tien_nuoc(san_luong):\n",
    "    tien = 0\n",
    "    if san_luong <= 10:\n",
    "        tien = san_luong * gia_ban_nuoc[0]\n",
    "    elif san_luong <= 20:\n",
    "        tien = 10 * gia_ban_nuoc[0] + (san_luong - 10) * gia_ban_nuoc[1]\n",
    "    elif san_luong <= 30:\n",
    "        tien = (10 * gia_ban_nuoc[0] +\n",
    "                10 * gia_ban_nuoc[1] +\n",
    "                (san_luong - 20) * gia_ban_nuoc[2])\n",
    "    else:\n",
    "        tien = (10 * gia_ban_nuoc[0] +\n",
    "                10 * gia_ban_nuoc[1] +\n",
    "                10 * gia_ban_nuoc[2] +\n",
    "                (san_luong - 30) * gia_ban_nuoc[3])\n",
    "    return tien\n",
    "\n",
    "# Test với các trường hợp mẫu\n",
    "ds_san_luong = [12, 23, 34]\n",
    "for sl in ds_san_luong:\n",
    "    print(f\"Sản lượng {sl} m3 => Tiền nước: {tinh_tien_nuoc(sl):,} đồng\")\n"
   ]
  },
  {
   "cell_type": "markdown",
   "id": "beb38d67",
   "metadata": {},
   "source": [
    "## Lab 4 - Bài 2"
   ]
  },
  {
   "cell_type": "code",
   "execution_count": 6,
   "id": "45a3d82f",
   "metadata": {},
   "outputs": [
    {
     "name": "stdout",
     "output_type": "stream",
     "text": [
      "Nguyên liệu cần cho hộp bánh: {'đậu': 0.46, 'đường': 0.22000000000000003}\n"
     ]
    }
   ],
   "source": [
    "# Code lab 4  bài 2 ở đây\n",
    "# Lượng nguyên liệu cho mỗi loại bánh (theo kg)\n",
    "# Cấu trúc: (đường, đậu)\n",
    "banh_dau_xanh = (0.04, 0.07)\n",
    "banh_thap_cam = (0.06, 0.0)\n",
    "banh_deo = (0.05, 0.02)\n",
    "\n",
    "def tinh_nguyen_lieu(so_dau_xanh, so_thap_cam, so_deo):\n",
    "    # Tính tổng nguyên liệu\n",
    "    duong = (so_dau_xanh * banh_dau_xanh[0] +\n",
    "             so_thap_cam * banh_thap_cam[0] +\n",
    "             so_deo * banh_deo[0])\n",
    "    \n",
    "    dau = (so_dau_xanh * banh_dau_xanh[1] +\n",
    "           so_thap_cam * banh_thap_cam[1] +\n",
    "           so_deo * banh_deo[1])\n",
    "    \n",
    "    # Kết quả trả về dạng dictionary\n",
    "    return {\"đậu\": duong, \"đường\": dau}\n",
    "\n",
    "# Ví dụ: 2 bánh đậu xanh, 3 bánh thập cẩm, 4 bánh dẻo\n",
    "ket_qua = tinh_nguyen_lieu(2, 3, 4)\n",
    "print(\"Nguyên liệu cần cho hộp bánh:\", ket_qua)\n",
    "\n",
    "\n",
    "\n"
   ]
  },
  {
   "cell_type": "markdown",
   "id": "97973a41",
   "metadata": {},
   "source": [
    "## Lab 4 - Bài 3"
   ]
  },
  {
   "cell_type": "code",
   "execution_count": 7,
   "id": "2efe4c4d",
   "metadata": {},
   "outputs": [
    {
     "name": "stdout",
     "output_type": "stream",
     "text": [
      "Nhập dãy số nguyên (nhập 's' hoặc 'S' để dừng):\n",
      "Lỗi: Bạn phải nhập số nguyên!\n",
      "Dãy số ban đầu: [2, 3, 4, 5, 56, 6, 7, 8, 856, 5, 43, 3, 3]\n",
      "Các số chẵn trong dãy: [2, 4, 56, 6, 8, 856]\n"
     ]
    }
   ],
   "source": [
    "# Code lab 4  bài 3 ở đây\n",
    "#Lọc ra các số chẵn trong dãy số nguyên\n",
    "\n",
    "# Nhập dãy số từ bàn phím\n",
    "my_list = []\n",
    "\n",
    "print(\"Nhập dãy số nguyên (nhập 's' hoặc 'S' để dừng):\")\n",
    "while True:\n",
    "    n = input(\"Nhập số: \")\n",
    "    if n.lower() == 's':   # nếu nhập s hoặc S thì dừng\n",
    "        break\n",
    "    try:\n",
    "        n = int(n)  # kiểm tra xem có phải số nguyên không\n",
    "        my_list.append(n)\n",
    "    except ValueError:\n",
    "        print(\"Lỗi: Bạn phải nhập số nguyên!\")\n",
    "\n",
    "# Lọc ra các số chẵn bằng filter + lambda\n",
    "new_list = list(filter(lambda x: x % 2 == 0, my_list))\n",
    "\n",
    "# Xuất kết quả\n",
    "print(\"Dãy số ban đầu:\", my_list)\n",
    "print(\"Các số chẵn trong dãy:\", new_list)\n"
   ]
  }
 ],
 "metadata": {
  "kernelspec": {
   "display_name": ".venv",
   "language": "python",
   "name": "python3"
  },
  "language_info": {
   "codemirror_mode": {
    "name": "ipython",
    "version": 3
   },
   "file_extension": ".py",
   "mimetype": "text/x-python",
   "name": "python",
   "nbconvert_exporter": "python",
   "pygments_lexer": "ipython3",
   "version": "3.13.7"
  }
 },
 "nbformat": 4,
 "nbformat_minor": 5
}
