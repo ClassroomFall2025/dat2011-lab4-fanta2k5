{
 "cells": [
  {
   "cell_type": "markdown",
   "id": "fdeff819",
   "metadata": {},
   "source": [
    "# Sinh Viên thực hiện Lab 6 ở Đây"
   ]
  },
  {
   "cell_type": "markdown",
   "id": "acc5d7dc",
   "metadata": {},
   "source": [
    "## Lab 6 - Bài 1"
   ]
  },
  {
   "cell_type": "code",
   "execution_count": 6,
   "id": "001e0507",
   "metadata": {},
   "outputs": [
    {
     "name": "stdout",
     "output_type": "stream",
     "text": [
      "Chu vi hình vuông là: 40.0\n",
      "Diện tích hình vuông là: 100.0\n",
      "Hình Vuông\n",
      "Cạnh: 10.0\n",
      "Diện tích: 100.0\n",
      "Chu vi: 40.0\n"
     ]
    }
   ],
   "source": [
    "from chuvi_dientich import *\n",
    "cn = float(input(\"Nhập chiều dài cạnh hình vuông: \"))\n",
    "hinh_vuong = Vuong(cn)\n",
    "chuvi = hinh_vuong.get_chu_vi()\n",
    "dientich = hinh_vuong.get_dien_tich()\n",
    "print(\"Chu vi hình vuông là:\", chuvi)\n",
    "print(\"Diện tích hình vuông là:\", dientich)\n",
    "hinh_vuong.xuat()"
   ]
  },
  {
   "cell_type": "markdown",
   "id": "c0835310",
   "metadata": {},
   "source": [
    "## Lab 6 - Bài 2"
   ]
  },
  {
   "cell_type": "code",
   "execution_count": null,
   "id": "fa9cb39f",
   "metadata": {},
   "outputs": [],
   "source": [
    "class SinhVienPoly:\n",
    "    def __init__(self, ho_ten, nganh_hoc):\n",
    "        self.__ho_ten = ho_ten\n",
    "        self.__nganh_hoc = nganh_hoc\n",
    "\n",
    "    def get_diem(self):\n",
    "        pass\n",
    "\n",
    "    def get_hoc_luc(self):\n",
    "        if self.get_diem() >= 9 and self.get_diem() <= 10:\n",
    "            hoc_luc = \"Xuất sắc\"\n",
    "        elif self.get_diem() >= 8:\n",
    "            hoc_luc = \"Giỏi\"\n",
    "        elif self.get_diem() >= 7:\n",
    "            hoc_luc = \"Khá\"\n",
    "        elif self.get_diem() >= 5:\n",
    "            hoc_luc = \"Trung bình\"\n",
    "        elif self.get_diem() >= 0:\n",
    "            hoc_luc = \"Chưa đạt\"\n",
    "        else:\n",
    "            print(\"Điểm không hợp lệ\")\n",
    "        return hoc_luc\n",
    "        # Xuất thông tin sinh viên\n",
    "    def xuat(self):\n",
    "            print(f\"{self.__ho_ten}, {self.__nganh_hoc}, {self.get_diem()}, {self.get_hoc_luc()}\")\n",
    "    def __str__(self):\n",
    "            return f\"Họ tên: {self.__ho_ten}, Ngành học: {self.__nganh_hoc}, Điểm: {self.get_diem()}, Học lực: {self.get_hoc_luc()}\""
   ]
  },
  {
   "cell_type": "markdown",
   "id": "0f2483fe",
   "metadata": {},
   "source": [
    "## Lab 6 - Bài 3"
   ]
  },
  {
   "cell_type": "code",
   "execution_count": null,
   "id": "7034990b",
   "metadata": {},
   "outputs": [],
   "source": [
    "# Code lab 6  bài 3 ở đây\n",
    "class SinhVienIT(SinhVienPoly):\n",
    "    def __init__(self, ho_ten, nganh_hoc, diem_java, diem_html, diem_css):\n",
    "        super().__init__(ho_ten, nganh_hoc)\n",
    "        self.__diem_java = diem_java\n",
    "        self.__diem_html = diem_html\n",
    "        self.__diem_css = diem_css \n",
    "    def get_diem(self):\n",
    "        return(self.__diem_java * 2 + self.__diem_html + self.__diem_css) /4\n",
    "        \n",
    "    def __str__(self):\n",
    "        return super().__str__() + f\", Điểm Java: {self.__diem_java}, Điểm HTML: {self.__diem_html}, Điểm CSS: {self.__diem_css}\"\n",
    "          \n",
    "class SinhVienBiz(SinhVienPoly):\n",
    "    def __init__(self, ho_ten, nganh_hoc, diem_marketing, diem_sales):\n",
    "        super().__init__(ho_ten, nganh_hoc)\n",
    "        self.__diem_marketing = diem_marketing\n",
    "        self.__diem_sales = diem_sales\n",
    "    def get_diem(self):\n",
    "        return(self.__diem_marketing * 2 + self.__diem_sales) /3"
   ]
  },
  {
   "cell_type": "markdown",
   "id": "d36ea3d3",
   "metadata": {},
   "source": [
    "## Lab 6 - Bài 4"
   ]
  },
  {
   "cell_type": "code",
   "execution_count": 1,
   "id": "4c707ec1",
   "metadata": {},
   "outputs": [
    {
     "name": "stdout",
     "output_type": "stream",
     "text": [
      "=====================MENU=====================\n",
      "1:Nhập danh sách sinh viên\n",
      "2:Xuất thông tin danh sách sinh viên\n",
      "3:Xuất danh sách sinh viên có học lực giỏi\n",
      "4:Sắp xếp danh sách sinh viên theo điểm\n",
      "5:Kết thúc\n",
      "==============================================\n",
      "Lựa chọn chức năng chương trình!\n"
     ]
    },
    {
     "name": "stdout",
     "output_type": "stream",
     "text": [
      "Nhập Danh sách sinh viên\n",
      "Nhập chưa đúng yêu cầu!\n",
      "Nhập chưa đúng yêu cầu!\n",
      "Nhập chưa đúng yêu cầu!\n",
      "Nhập chưa đúng yêu cầu!\n",
      "Kết thúc nhập tt sinh viên\n",
      "=====================MENU=====================\n",
      "1:Nhập danh sách sinh viên\n",
      "2:Xuất thông tin danh sách sinh viên\n",
      "3:Xuất danh sách sinh viên có học lực giỏi\n",
      "4:Sắp xếp danh sách sinh viên theo điểm\n",
      "5:Kết thúc\n",
      "==============================================\n",
      "Lựa chọn chức năng chương trình!\n",
      "Xuất thông tin danh sách sinh viên\n",
      "Tên Sinh viên,Ngành Học,Điểm,Học Lực\n",
      "nguyễn c, biz, 4.333333333333333, Chưa đạt\n",
      "nguyễn hoàng, it, 9.0, Xuất sắc\n",
      "nguyenx l, biz, 7.333333333333333, Khá\n",
      "nguyễn t, it, 7.25, Khá\n",
      "nguyeenxx ư, biz, 4.666666666666667, Chưa đạt\n",
      "=====================MENU=====================\n",
      "1:Nhập danh sách sinh viên\n",
      "2:Xuất thông tin danh sách sinh viên\n",
      "3:Xuất danh sách sinh viên có học lực giỏi\n",
      "4:Sắp xếp danh sách sinh viên theo điểm\n",
      "5:Kết thúc\n",
      "==============================================\n",
      "Lựa chọn chức năng chương trình!\n",
      "Danh sách sinh viên học lực giỏi!\n",
      "Tên Sinh viên        Ngành Học  Điểm       Học lực   \n",
      "=====================MENU=====================\n",
      "1:Nhập danh sách sinh viên\n",
      "2:Xuất thông tin danh sách sinh viên\n",
      "3:Xuất danh sách sinh viên có học lực giỏi\n",
      "4:Sắp xếp danh sách sinh viên theo điểm\n",
      "5:Kết thúc\n",
      "==============================================\n",
      "Lựa chọn chức năng chương trình!\n",
      "Danh sách sinh viên điểm số tăng dần\n",
      "Tên Sinh viên        Ngành Học  Điểm       Học lực   \n",
      "nguyễn c, biz, 4.333333333333333, Chưa đạt\n",
      "nguyeenxx ư, biz, 4.666666666666667, Chưa đạt\n",
      "nguyễn t, it, 7.25, Khá\n",
      "nguyenx l, biz, 7.333333333333333, Khá\n",
      "nguyễn hoàng, it, 9.0, Xuất sắc\n",
      "=====================MENU=====================\n",
      "1:Nhập danh sách sinh viên\n",
      "2:Xuất thông tin danh sách sinh viên\n",
      "3:Xuất danh sách sinh viên có học lực giỏi\n",
      "4:Sắp xếp danh sách sinh viên theo điểm\n",
      "5:Kết thúc\n",
      "==============================================\n",
      "Lựa chọn chức năng chương trình!\n",
      "Chương trình kết thúc\n"
     ]
    }
   ],
   "source": [
    "from QuanLySinhVien import*\n",
    "ql = QuanLySinhVien()\n",
    "\n",
    "menu = {\n",
    "    \"1\" : \"Nhập danh sách sinh viên\",\n",
    "    \"2\" :\"Xuất thông tin danh sách sinh viên\",\n",
    "    \"3\" :\"Xuất danh sách sinh viên có học lực giỏi\",\n",
    "    \"4\" :\"Sắp xếp danh sách sinh viên theo điểm\",\n",
    "    \"5\" :\"Kết thúc\"\n",
    "}\n",
    "while True:\n",
    "    print(\"===\"*7 + \"MENU\" + \"===\"*7)\n",
    "    for k, v in menu.items():\n",
    "        print(f\"{k}:{v}\")\n",
    "    print(\"===\"*7 + \"====\" + \"===\"*7)\n",
    "\n",
    "    print(\"Lựa chọn chức năng chương trình!\")\n",
    "    lua_chon = input(\"Nhap chuc nang ct:\")\n",
    "    match lua_chon:\n",
    "        case \"5\":\n",
    "            print(\"Chương trình kết thúc\")\n",
    "            break\n",
    "        case \"1\":\n",
    "            print(\"Nhập Danh sách sinh viên\")\n",
    "            ql.nhap_danh_sach_sinh_vien()\n",
    "        case \"2\":\n",
    "            print(\"Xuất thông tin danh sách sinh viên\")\n",
    "            ql.Xuat_danh_sach_sinh_vien()\n",
    "        case \"3\":\n",
    "            ql.xuat_dssv_gioi()\n",
    "        case \"4\":\n",
    "            ql.sap_xep_dssv()\n",
    "        case _:\n",
    "            print(\"Chưa chọn đúng chức năng chương trình\")"
   ]
  },
  {
   "cell_type": "markdown",
   "id": "e2b41d4a",
   "metadata": {},
   "source": [
    "## Lab 6 - Bài 5: bài tập làm thêm"
   ]
  },
  {
   "cell_type": "code",
   "execution_count": null,
   "id": "0e0172f7",
   "metadata": {},
   "outputs": [],
   "source": [
    "# code lab 6  bài làm thêm ở đây \n",
    "hello"
   ]
  }
 ],
 "metadata": {
  "kernelspec": {
   "display_name": ".venv",
   "language": "python",
   "name": "python3"
  },
  "language_info": {
   "codemirror_mode": {
    "name": "ipython",
    "version": 3
   },
   "file_extension": ".py",
   "mimetype": "text/x-python",
   "name": "python",
   "nbconvert_exporter": "python",
   "pygments_lexer": "ipython3",
   "version": "3.13.7"
  }
 },
 "nbformat": 4,
 "nbformat_minor": 5
}
