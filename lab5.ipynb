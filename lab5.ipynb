{
 "cells": [
  {
   "cell_type": "markdown",
   "id": "fdeff819",
   "metadata": {},
   "source": [
    "# Sinh Viên thực hiện Lab 5 ở Đây"
   ]
  },
  {
   "cell_type": "markdown",
   "id": "acc5d7dc",
   "metadata": {},
   "source": [
    "## Lab 5 - Bài 1"
   ]
  },
  {
   "cell_type": "code",
   "execution_count": 4,
   "id": "001e0507",
   "metadata": {},
   "outputs": [
    {
     "name": "stdout",
     "output_type": "stream",
     "text": [
      "Sản Phẩm bánh mì Giá: 1000000.0 Giảm giá: 1000.0 Thuế nhập khẩu: 100000.0\n"
     ]
    }
   ],
   "source": [
    "# Code lab 5 bài 1 ở đây\n",
    "# Tạo lớp SanPham gồm 3 thuộc tính là tên, giá và giảm giá. Lớp cũng gồm 2\n",
    "# phương thức là tính thuế nhập khẩu (10% giá sản phẩm) và xuất thông tin ra màn\n",
    "# hình. \n",
    "class sampham: \n",
    "    def __init__(self, tensp, giamgiasp, giasp):\n",
    "        self.giasp = giasp\n",
    "        self.tensp = tensp\n",
    "        self.giamgiasp = giamgiasp\n",
    "\n",
    "        \n",
    "    def thuenhapkhau(self):\n",
    "        return self.giasp * 0.1\n",
    "    \n",
    "    def nhap_thong_tin_sp(self):\n",
    "        self.tensp = input(\"Nhập tên sản phẩm: \")\n",
    "        self.giasp = float(input(\"Nhập giá sản phẩm: \"))\n",
    "        self.giamgiasp = float(input(\"Nhập giảm giá sản phẩm: \"))\n",
    "    def xuat_thong_tin_sp(self):\n",
    "        print(f\"Sản Phẩm {self.tensp} Giá: {self.giasp} Giảm giá: {self.giamgiasp} Thuế nhập khẩu: {self.thuenhapkhau()}\")\n",
    "\n",
    "sp1 = sampham(\"\",\"\",\"\")\n",
    "\n",
    "sp1.nhap_thong_tin_sp()\n",
    "sp1.xuat_thong_tin_sp()\n",
    "        "
   ]
  },
  {
   "cell_type": "markdown",
   "id": "c0835310",
   "metadata": {},
   "source": [
    "## Lab 5 - Bài 3"
   ]
  },
  {
   "cell_type": "code",
   "execution_count": null,
   "id": "fa9cb39f",
   "metadata": {},
   "outputs": [
    {
     "ename": "",
     "evalue": "",
     "output_type": "error",
     "traceback": [
      "\u001b[1;31mRunning cells with '.venv (Python 3.13.7)' requires the ipykernel package.\n",
      "\u001b[1;31mInstall 'ipykernel' into the Python environment. \n",
      "\u001b[1;31mCommand: '\"e:/DAT2011 lập trình python/lap4/dat2011-lab4-fanta2k5/.venv/Scripts/python.exe\" -m pip install ipykernel -U --force-reinstall'"
     ]
    }
   ],
   "source": [
    "class SanPham3:\n",
    "    def __init__(self, tensp, giasp, giamgiasp):\n",
    "        self.__tensp = tensp\n",
    "        self.__giasp = giasp\n",
    "        self.__giamgiasp = giamgiasp\n",
    "\n",
    "    # --- Cặp Getter/Setter cho __tensp ---\n",
    "    def get_tensp(self):\n",
    "        return self.__tensp\n",
    "\n",
    "    def set_tensp(self, tensp_moi):\n",
    "        self.__tensp = tensp_moi\n",
    "\n",
    "    #Cặp Getter/Setter cho __giasp\n",
    "    def get_giasp(self):\n",
    "        return self.__giasp\n",
    "\n",
    "    def set_giasp(self, giasp_moi):\n",
    "        if giasp_moi >= 0:\n",
    "            self.__giasp = giasp_moi\n",
    "        else:\n",
    "            print(\"Lỗi: Giá sản phẩm không thể là số âm.\")\n",
    "\n",
    "    #Cặp Getter/Setter cho __giamgiasp\n",
    "    def get_giamgiasp(self):\n",
    "        return self.__giamgiasp\n",
    "\n",
    "    def set_giamgiasp(self, giamgiasp_moi):\n",
    "        if 0 <= giamgiasp_moi < self.__giasp:\n",
    "            self.__giamgiasp = giamgiasp_moi\n",
    "        else:\n",
    "            print(\"Lỗi: Mức giảm giá không hợp lệ.\")\n",
    "\n",
    "    def thue_nhap_khau(self):\n",
    "        return self.__giasp * 0.1\n",
    "\n",
    "    def nhap_thong_tin_sp(self):\n",
    "        self.set_tensp(input(\"Nhập tên sản phẩm: \"))\n",
    "        self.__giasp = float(input(\"Nhập giá sản phẩm: \"))\n",
    "        self.__giamgiasp = float(input(\"Nhập giảm giá sản phẩm: \"))\n",
    "\n",
    "    def __str__(self):\n",
    "        thue = self.thue_nhap_khau()\n",
    "        return (f\"Sản Phẩm: {self.__tensp} | \"\n",
    "                f\"Giá: {self.__giasp} | \"\n",
    "                f\"Giảm giá: {self.__giamgiasp} | \"\n",
    "                f\"Thuế NK: {thue}\")\n",
    "    \n",
    "    def xuat_thong_tin_sp(self):\n",
    "        \"\"\"Tận dụng __str__ để tránh lặp code.\"\"\"\n",
    "        print(self)\n",
    "\n",
    "\n",
    "sp1 = SanPham3(\"\", 0, 0)\n",
    "\n",
    "sp1.nhap_thong_tin_sp()\n",
    "print(\"\\nThông tin sản phẩm vừa nhập\")\n",
    "sp1.xuat_thong_tin_sp()\n",
    "\n",
    "\n",
    "print(\"\\nCập nhật lại giá sản phẩm\")\n",
    "sp1.set_giasp(15000)\n",
    "sp1.xuat_thong_tin_sp()"
   ]
  },
  {
   "cell_type": "markdown",
   "id": "d36ea3d3",
   "metadata": {},
   "source": [
    "## Lab 5 - Bài 2+4"
   ]
  },
  {
   "cell_type": "code",
   "execution_count": 13,
   "id": "4c707ec1",
   "metadata": {},
   "outputs": [
    {
     "name": "stdout",
     "output_type": "stream",
     "text": [
      "Sản Phẩm bánh mì Giá: 100000000.0 Giảm giá: 1000.0 Thuế nhập khẩu: 10000000.0\n",
      "Sản Phẩm nám bao Giá: 1000000.0 Giảm giá: 1000.0 Thuế nhập khẩu: 100000.0\n"
     ]
    }
   ],
   "source": [
    "# code lab 5 bài 4 ở đây\n",
    "\n",
    "from sanpham import *\n",
    "\n",
    "sp1 = sampham(\"\",\"\",\"\")\n",
    "sp2 = sampham(\"\",\"\",\"\")\n",
    "sp1.nhap_thong_tin_sp()\n",
    "sp1.xuat_thong_tin_sp()\n",
    "sp2.nhap_thong_tin_sp()\n",
    "sp2.xuat_thong_tin_sp()"
   ]
  },
  {
   "cell_type": "markdown",
   "id": "e2b41d4a",
   "metadata": {},
   "source": [
    "## Lab 5 - Bài 5: bài tập làm thêm"
   ]
  },
  {
   "cell_type": "code",
   "execution_count": null,
   "id": "0e0172f7",
   "metadata": {},
   "outputs": [],
   "source": [
    "# code lab 5  bài làm thêm ở đây "
   ]
  }
 ],
 "metadata": {
  "kernelspec": {
   "display_name": ".venv",
   "language": "python",
   "name": "python3"
  },
  "language_info": {
   "codemirror_mode": {
    "name": "ipython",
    "version": 3
   },
   "file_extension": ".py",
   "mimetype": "text/x-python",
   "name": "python",
   "nbconvert_exporter": "python",
   "pygments_lexer": "ipython3",
   "version": "3.13.7"
  }
 },
 "nbformat": 4,
 "nbformat_minor": 5
}
